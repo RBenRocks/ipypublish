{
 "cells": [
  {
   "cell_type": "markdown",
   "metadata": {},
   "source": [
    "# as rmd\n",
    "\n",
    "some text jhgjhgjjhgjg\n",
    "\n",
    "=@label2\n",
    "\n",
    "$$a$$ {#label2}\n",
    "\n",
    "$a=b$"
   ]
  },
  {
   "cell_type": "code",
   "execution_count": null,
   "metadata": {},
   "outputs": [],
   "source": [
    "a=1\n",
    "print(a)"
   ]
  },
  {
   "cell_type": "code",
   "execution_count": null,
   "metadata": {},
   "outputs": [],
   "source": [
    "for i in [1, 2, 3]:\n",
    "    print(i)"
   ]
  },
  {
   "cell_type": "code",
   "execution_count": null,
   "metadata": {
    "ipub": {
     "figure": {
      "caption": "this is a caption"
     }
    }
   },
   "outputs": [],
   "source": [
    "%matplotlib inline\n",
    "import matplotlib.pyplot as plt\n",
    "import numpy as np\n",
    "plt.plot(np.sin(np.linspace(0, 6)))"
   ]
  }
 ],
 "metadata": {
  "ipub": {
   "at_notation": false,
   "test": [
    1,
    2
   ],
   "use_numref": false
  },
  "jupytext": {
   "metadata_filter": {
    "notebook": "ipub"
   },
   "text_representation": {
    "extension": ".Rmd",
    "format_name": "rmarkdown",
    "format_version": "1.0",
    "jupytext_version": "0.8.6"
   }
  },
  "kernelspec": {
   "display_name": "Python 3",
   "language": "python",
   "name": "python3"
  }
 },
 "nbformat": 4,
 "nbformat_minor": 2
}
